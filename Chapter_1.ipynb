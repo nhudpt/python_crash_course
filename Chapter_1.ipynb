{
  "nbformat": 4,
  "nbformat_minor": 0,
  "metadata": {
    "colab": {
      "provenance": [],
      "authorship_tag": "ABX9TyOUasdnlXRe29355QtAy7MK",
      "include_colab_link": true
    },
    "kernelspec": {
      "name": "python3",
      "display_name": "Python 3"
    },
    "language_info": {
      "name": "python"
    }
  },
  "cells": [
    {
      "cell_type": "markdown",
      "metadata": {
        "id": "view-in-github",
        "colab_type": "text"
      },
      "source": [
        "<a href=\"https://colab.research.google.com/github/nhudpt/python_crash_course/blob/main/Chapter_1.ipynb\" target=\"_parent\"><img src=\"https://colab.research.google.com/assets/colab-badge.svg\" alt=\"Open In Colab\"/></a>"
      ]
    },
    {
      "cell_type": "code",
      "execution_count": null,
      "metadata": {
        "colab": {
          "base_uri": "https://localhost:8080/"
        },
        "id": "tlPEU-2aIXVV",
        "outputId": "66432d90-9a57-4f07-e540-e6f6e183dc00"
      },
      "outputs": [
        {
          "output_type": "stream",
          "name": "stdout",
          "text": [
            "Python 3.11.11 (main, Dec  4 2024, 08:55:07) [GCC 11.4.0] on linux\n",
            "Type \"help\", \"copyright\", \"credits\" or \"license\" for more information.\n",
            ">>> exit()\n"
          ]
        }
      ],
      "source": [
        "!python3"
      ]
    },
    {
      "cell_type": "code",
      "source": [
        "print(\"Hello Python world\")"
      ],
      "metadata": {
        "colab": {
          "base_uri": "https://localhost:8080/"
        },
        "id": "g0kvf9R6rQDZ",
        "outputId": "f7628fa2-aaa8-4694-f86c-74af3e492203"
      },
      "execution_count": 6,
      "outputs": [
        {
          "output_type": "stream",
          "name": "stdout",
          "text": [
            "Hello Python world\n"
          ]
        }
      ]
    },
    {
      "cell_type": "markdown",
      "source": [
        "### **Text Editor for Operating Systems**\n",
        "\n",
        "\n"
      ],
      "metadata": {
        "id": "OeMnDLqNox3U"
      }
    },
    {
      "cell_type": "markdown",
      "source": [
        "<span style=\"font-size:22px\">**GEANY for Linux and Window**</span>\n",
        "\n",
        "<img src=\"https://tangenttechnologies.ca/media/1440/geany-python.png\" alt=\"mô tả\" width=\"400\"/>"
      ],
      "metadata": {
        "id": "0bZymgJ2wR6n"
      }
    },
    {
      "cell_type": "markdown",
      "source": [
        "<span style=\"font-size:22px\">**SUBLIME TEXT for OS X**</span>\n",
        "\n",
        "<img src=\"https://www.sublimetext.com/screenshots/3.0/linux@2x.png\" width=\"400\"/>\n",
        "\n",
        "<span style=\"font-sizw:18px\">Configuring Sublime Text 👉 It knows where to find the correct version of **Python** on your system</span>\n",
        "\n",
        "<span style=\"font-size:16px\">**Step 1**: Finding out the full path to your Python Interpreter</span>\n",
        "```\n",
        "$ type -a python3\n",
        "python3 is /usr/local/bin/python3\n",
        "```\n",
        "<span style=\"font-size:16px\">**Step 2**: Open Sublime Text 👉 **Tools ▶️ Build System ▶️ New Build System** 👉 A new configuration file</span>\n",
        "```\n",
        "{\n",
        "\"cmd\": [\"/usr/local/bin/python3\", \"-u\", \"$file\"],\n",
        "}\n",
        "```\n",
        "\n",
        "<span style=\"font-size:16px\">**Step 3**: Save the file as *Python3.sublime-build* in the default directory when you choose **Save**\n",
        "\n",
        "\n"
      ],
      "metadata": {
        "id": "ZVjSZFkNwcTt"
      }
    },
    {
      "cell_type": "markdown",
      "source": [
        "### <span>**Running Python Programs from a terminal**"
      ],
      "metadata": {
        "id": "ajHgJ8-j3xQu"
      }
    },
    {
      "cell_type": "markdown",
      "source": [
        "<span>*On Linux and OS X*</span>\n",
        "\n",
        "<span>**The Terminal Commands**</span>\n",
        "\n",
        "<span>cd: *change directory* 👉 navigating through your file system in a terminal session</span>\n",
        "\n",
        "<span>ls: *list* 👉 showing all the nonhidden files that existing in the curren directory</span>\n",
        "\n",
        "```\n",
        "1️⃣ ~$ cd Desktop/python_work/\n",
        "2️⃣ ~/Desktop/python_work$ ls hello_world.py\n",
        "3️⃣ ~/Desktop/python_work$ python3 hello_world.py\n",
        "\n",
        "Hello Python world!\n",
        "```\n",
        "1️⃣ navigating to the *python_work* folder, which is in the *Desktop* folder\n",
        "\n",
        "2️⃣ making sure the *hello_world.py* is in this folder\n",
        "\n",
        "3️⃣ running this file\n"
      ],
      "metadata": {
        "id": "vlS8ZHLI315T"
      }
    },
    {
      "cell_type": "code",
      "source": [],
      "metadata": {
        "id": "-A-RLap35-5S"
      },
      "execution_count": null,
      "outputs": []
    }
  ]
}