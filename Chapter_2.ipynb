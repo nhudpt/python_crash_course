{
  "nbformat": 4,
  "nbformat_minor": 0,
  "metadata": {
    "colab": {
      "provenance": [],
      "authorship_tag": "ABX9TyNjhPFND93ceHHOIt0c3+R5",
      "include_colab_link": true
    },
    "kernelspec": {
      "name": "python3",
      "display_name": "Python 3"
    },
    "language_info": {
      "name": "python"
    }
  },
  "cells": [
    {
      "cell_type": "markdown",
      "metadata": {
        "id": "view-in-github",
        "colab_type": "text"
      },
      "source": [
        "<a href=\"https://colab.research.google.com/github/nhudpt/python_crash_course/blob/main/Chapter_2.ipynb\" target=\"_parent\"><img src=\"https://colab.research.google.com/assets/colab-badge.svg\" alt=\"Open In Colab\"/></a>"
      ]
    },
    {
      "cell_type": "code",
      "execution_count": null,
      "metadata": {
        "colab": {
          "base_uri": "https://localhost:8080/"
        },
        "id": "oCm39zzPGkQn",
        "outputId": "c4c4d55e-5765-414a-8055-6969d5bca54d"
      },
      "outputs": [
        {
          "output_type": "stream",
          "name": "stdout",
          "text": [
            "Hello Python world\n"
          ]
        }
      ],
      "source": [
        "message = \"Hello Python world\"\n",
        "print(message)"
      ]
    },
    {
      "cell_type": "code",
      "source": [
        "message = \"Hello Python Crash Course world\"\n",
        "print(message)"
      ],
      "metadata": {
        "colab": {
          "base_uri": "https://localhost:8080/"
        },
        "id": "Rj1zSePGG1E-",
        "outputId": "187229a0-c116-42cc-8664-5ddb2c3082a1"
      },
      "execution_count": null,
      "outputs": [
        {
          "output_type": "stream",
          "name": "stdout",
          "text": [
            "Hello Python Crash Course world\n"
          ]
        }
      ]
    },
    {
      "cell_type": "markdown",
      "source": [
        "### **Avoiding Name Errors When Using Variables**"
      ],
      "metadata": {
        "id": "h8E08OHFIxw4"
      }
    },
    {
      "cell_type": "code",
      "source": [
        "message = \"Hello Python Crash Course reader\"\n",
        "print(mesage)"
      ],
      "metadata": {
        "colab": {
          "base_uri": "https://localhost:8080/",
          "height": 198
        },
        "id": "F_ijJcsnHTux",
        "outputId": "763109a9-6504-4e25-c748-c5ce4b1fe39e"
      },
      "execution_count": null,
      "outputs": [
        {
          "output_type": "error",
          "ename": "NameError",
          "evalue": "name 'mesage' is not defined",
          "traceback": [
            "\u001b[0;31m---------------------------------------------------------------------------\u001b[0m",
            "\u001b[0;31mNameError\u001b[0m                                 Traceback (most recent call last)",
            "\u001b[0;32m<ipython-input-4-2c7cd8b04d0f>\u001b[0m in \u001b[0;36m<cell line: 0>\u001b[0;34m()\u001b[0m\n\u001b[1;32m      1\u001b[0m \u001b[0mmessage\u001b[0m \u001b[0;34m=\u001b[0m \u001b[0;34m\"Hello Python Crash Course reader\"\u001b[0m\u001b[0;34m\u001b[0m\u001b[0;34m\u001b[0m\u001b[0m\n\u001b[0;32m----> 2\u001b[0;31m \u001b[0mprint\u001b[0m\u001b[0;34m(\u001b[0m\u001b[0mmesage\u001b[0m\u001b[0;34m)\u001b[0m\u001b[0;34m\u001b[0m\u001b[0;34m\u001b[0m\u001b[0m\n\u001b[0m",
            "\u001b[0;31mNameError\u001b[0m: name 'mesage' is not defined"
          ]
        }
      ]
    },
    {
      "cell_type": "markdown",
      "source": [
        "### **Strings**\n",
        "\n",
        "*   A **string** is simply a series of characters\n",
        "*   You can use single or double quotes around your strings. Ex:\n",
        "\n",
        "  *   \"This is a string.\"\n",
        "  *   'This is also a string.'\n",
        "\n",
        "👉 You can freely use quotes and apostrophes within your strings\n",
        "\n",
        "\n",
        "*   'I told my friend, \"Python is my favorite language!\"'\n",
        "*   \"The language 'Python' is named after Monty Python, not the snake.\"\n",
        "* \"One of Python's strengths is its diverse and supportive community.\"\n",
        "\n",
        "\n",
        "\n",
        "\n",
        "\n"
      ],
      "metadata": {
        "id": "bXvLyOgwMUSp"
      }
    },
    {
      "cell_type": "markdown",
      "source": [
        "#### Changing case"
      ],
      "metadata": {
        "id": "Jr8617PBSjL0"
      }
    },
    {
      "cell_type": "code",
      "source": [
        "name = \"ada lovelace\"\n",
        "print(name.title())"
      ],
      "metadata": {
        "colab": {
          "base_uri": "https://localhost:8080/"
        },
        "id": "72G3Y-FmJSP5",
        "outputId": "0aba5722-9f75-4822-c80d-104842f7007d"
      },
      "execution_count": null,
      "outputs": [
        {
          "output_type": "stream",
          "name": "stdout",
          "text": [
            "Ada Lovelace\n"
          ]
        }
      ]
    },
    {
      "cell_type": "markdown",
      "source": [
        "\n",
        "\n",
        "*   **method**: an action that Python can perform on a piece of data\n",
        "*   **The dot (.)**: tells Python make the `title()` method act on the variable `name`\n",
        "* `title()` displays each word in titlecase, each word begins with a capital letter\n",
        "\n"
      ],
      "metadata": {
        "id": "M-FRHqA6OgGt"
      }
    },
    {
      "cell_type": "code",
      "source": [
        "# Other methods for dealing with case\n",
        "name = \"Ada Lovelace\"\n",
        "print(name.upper())\n",
        "print(name.lower())"
      ],
      "metadata": {
        "colab": {
          "base_uri": "https://localhost:8080/"
        },
        "id": "z9EYEI7xOfRr",
        "outputId": "7725de30-810c-4521-edf4-41efabeda8c1"
      },
      "execution_count": null,
      "outputs": [
        {
          "output_type": "stream",
          "name": "stdout",
          "text": [
            "ADA LOVELACE\n",
            "ada lovelace\n"
          ]
        }
      ]
    },
    {
      "cell_type": "markdown",
      "source": [
        "#### Conmbining or Concatenating Strings"
      ],
      "metadata": {
        "id": "JbwakVvDSXic"
      }
    },
    {
      "cell_type": "code",
      "source": [
        "# Use the plus symbol (+) to combine strings\n",
        "first_name = \"ada\"\n",
        "last_name = \"lovelace\"\n",
        "full_name = first_name + \" \" + last_name\n",
        "print(full_name)"
      ],
      "metadata": {
        "colab": {
          "base_uri": "https://localhost:8080/"
        },
        "id": "u4pATAHmPx3K",
        "outputId": "3dd3a7e6-2a41-4ab5-ce96-5516bb4b989c"
      },
      "execution_count": null,
      "outputs": [
        {
          "output_type": "stream",
          "name": "stdout",
          "text": [
            "ada lovelace\n"
          ]
        }
      ]
    },
    {
      "cell_type": "code",
      "source": [
        "# Concatenation\n",
        "print(\"Hello, \" + full_name.title() + \"!\")"
      ],
      "metadata": {
        "colab": {
          "base_uri": "https://localhost:8080/"
        },
        "id": "VXO8uRDJQRN1",
        "outputId": "38198f35-3f68-4438-e140-d547d72a4244"
      },
      "execution_count": null,
      "outputs": [
        {
          "output_type": "stream",
          "name": "stdout",
          "text": [
            "Hello, Ada Lovelace!\n"
          ]
        }
      ]
    },
    {
      "cell_type": "code",
      "source": [
        "# Storing the message in a variable and then printing statement\n",
        "message = \"Hello, \" + full_name.title() + \"!\"\n",
        "print(message)"
      ],
      "metadata": {
        "colab": {
          "base_uri": "https://localhost:8080/"
        },
        "id": "CvBT6tY1RGJa",
        "outputId": "6860427d-3cc1-4bfd-de16-c59e88432c6a"
      },
      "execution_count": null,
      "outputs": [
        {
          "output_type": "stream",
          "name": "stdout",
          "text": [
            "Hello, Ada Lovelace!\n"
          ]
        }
      ]
    },
    {
      "cell_type": "markdown",
      "source": [
        "#### Whitespace\n",
        "\n",
        "👉 Any nonprinting character: spaces, tabs, and end-of-line symbols\n",
        "\n",
        "`\\t`add a tab\n",
        "\n",
        "`\\n` add a newline\n",
        "\n",
        "`\\n\\t` move to a newline and start the next line with a tab"
      ],
      "metadata": {
        "id": "-ogRqAxYSf-m"
      }
    },
    {
      "cell_type": "code",
      "source": [
        "print(\"Python\")\n",
        "print(\"\\tPython\")"
      ],
      "metadata": {
        "colab": {
          "base_uri": "https://localhost:8080/"
        },
        "id": "i2WaPmKPQ41u",
        "outputId": "e05bdda6-a2a6-43f6-b576-ae0607d4550c"
      },
      "execution_count": null,
      "outputs": [
        {
          "output_type": "stream",
          "name": "stdout",
          "text": [
            "Python\n",
            "\tPython\n"
          ]
        }
      ]
    },
    {
      "cell_type": "code",
      "source": [
        "print(\"Languages:\\nPython\\nC\\nJavaScript\")"
      ],
      "metadata": {
        "colab": {
          "base_uri": "https://localhost:8080/"
        },
        "id": "JIXMLyd9TVoo",
        "outputId": "db745983-bec4-4c79-bd3c-f8ce1d6d638a"
      },
      "execution_count": null,
      "outputs": [
        {
          "output_type": "stream",
          "name": "stdout",
          "text": [
            "Languages:\n",
            "Python\n",
            "C\n",
            "JavaScript\n"
          ]
        }
      ]
    },
    {
      "cell_type": "code",
      "source": [
        "print(\"Languages:\\n\\tPython\\n\\tC\\n\\tJavaScript\")"
      ],
      "metadata": {
        "colab": {
          "base_uri": "https://localhost:8080/"
        },
        "id": "MR2sLmxVTXuz",
        "outputId": "c5680992-e493-4e9e-9bf2-b4ec4d05365c"
      },
      "execution_count": null,
      "outputs": [
        {
          "output_type": "stream",
          "name": "stdout",
          "text": [
            "Languages:\n",
            "\tPython\n",
            "\tC\n",
            "\tJavaScript\n"
          ]
        }
      ]
    },
    {
      "cell_type": "code",
      "source": [
        "favorite_language = 'Python '\n",
        "print(\"'\" + favorite_language + \"'\")\n",
        "print(\"'\" + favorite_language.rstrip() + \"'\")\n",
        "print(\"'\" + favorite_language + \"'\")\n",
        "favorite_language = favorite_language.rstrip() # 📌\n",
        "print(\"'\" + favorite_language + \"'\")"
      ],
      "metadata": {
        "colab": {
          "base_uri": "https://localhost:8080/"
        },
        "id": "MH84sCFUTZsF",
        "outputId": "a3e9530e-7adb-4c83-b9b2-98914526f20f"
      },
      "execution_count": null,
      "outputs": [
        {
          "output_type": "stream",
          "name": "stdout",
          "text": [
            "'Python '\n",
            "'Python'\n",
            "'Python '\n",
            "'Python'\n"
          ]
        }
      ]
    },
    {
      "cell_type": "markdown",
      "source": [
        "\n",
        "\n",
        "*   `rstrip()` removes whitespace exists at the right end of string\n",
        "*   **method** `rstrip() ` only removed temporarily\n",
        "* **remove permanently**: store the stripped value back into the variable 📌\n",
        "\n"
      ],
      "metadata": {
        "id": "sZG_4ImuJvPK"
      }
    },
    {
      "cell_type": "code",
      "source": [
        "favorite_language = '\\tpython \\t'\n",
        "print(\"'\" + favorite_language.rstrip() + \"'\")\n",
        "print(\"'\" + favorite_language.lstrip() + \"'\")\n",
        "print(\"'\" + favorite_language.strip() + \"'\")"
      ],
      "metadata": {
        "colab": {
          "base_uri": "https://localhost:8080/"
        },
        "id": "vZPBfldaIyla",
        "outputId": "79303299-2f82-4acc-a2a5-7e021a24de6b"
      },
      "execution_count": null,
      "outputs": [
        {
          "output_type": "stream",
          "name": "stdout",
          "text": [
            "'\tpython'\n",
            "'python \t'\n",
            "'python'\n"
          ]
        }
      ]
    },
    {
      "cell_type": "markdown",
      "source": [
        "\n",
        "\n",
        "*   `lstrip()` remove from the left side\n",
        "*   `strip()` remove from both sides\n",
        "\n"
      ],
      "metadata": {
        "id": "Kdxez_CpMcv4"
      }
    },
    {
      "cell_type": "markdown",
      "source": [
        "### **Numbers**\n",
        "\n",
        "\n",
        "*   Keep score in games\n",
        "*   Represent data in visualization\n",
        "* Store information in web applications\n",
        "\n"
      ],
      "metadata": {
        "id": "vOzjcMciOmnZ"
      }
    },
    {
      "cell_type": "code",
      "source": [
        "age = 23\n",
        "message = \"Happy \" + age + \"rd Birthday!\"\n",
        "print(message)"
      ],
      "metadata": {
        "colab": {
          "base_uri": "https://localhost:8080/",
          "height": 216
        },
        "id": "1Qj0QZs8MbCk",
        "outputId": "4bc1471f-cb01-4939-9550-af486d03de42"
      },
      "execution_count": null,
      "outputs": [
        {
          "output_type": "error",
          "ename": "TypeError",
          "evalue": "can only concatenate str (not \"int\") to str",
          "traceback": [
            "\u001b[0;31m---------------------------------------------------------------------------\u001b[0m",
            "\u001b[0;31mTypeError\u001b[0m                                 Traceback (most recent call last)",
            "\u001b[0;32m<ipython-input-26-80a141e301d6>\u001b[0m in \u001b[0;36m<cell line: 0>\u001b[0;34m()\u001b[0m\n\u001b[1;32m      1\u001b[0m \u001b[0mage\u001b[0m \u001b[0;34m=\u001b[0m \u001b[0;36m23\u001b[0m\u001b[0;34m\u001b[0m\u001b[0;34m\u001b[0m\u001b[0m\n\u001b[0;32m----> 2\u001b[0;31m \u001b[0mmessage\u001b[0m \u001b[0;34m=\u001b[0m \u001b[0;34m\"Happy \"\u001b[0m \u001b[0;34m+\u001b[0m \u001b[0mage\u001b[0m \u001b[0;34m+\u001b[0m \u001b[0;34m\"rd Birthday!\"\u001b[0m\u001b[0;34m\u001b[0m\u001b[0;34m\u001b[0m\u001b[0m\n\u001b[0m\u001b[1;32m      3\u001b[0m \u001b[0mprint\u001b[0m\u001b[0;34m(\u001b[0m\u001b[0mmessage\u001b[0m\u001b[0;34m)\u001b[0m\u001b[0;34m\u001b[0m\u001b[0;34m\u001b[0m\u001b[0m\n",
            "\u001b[0;31mTypeError\u001b[0m: can only concatenate str (not \"int\") to str"
          ]
        }
      ]
    },
    {
      "cell_type": "markdown",
      "source": [
        "\n",
        "\n",
        "*   **type error**: can't recognize the kind of information\n",
        "*   **function** `str()` repressent non-string values as strings\n",
        "\n"
      ],
      "metadata": {
        "id": "2ZliW_o3Q6Y1"
      }
    },
    {
      "cell_type": "code",
      "source": [
        "age = 23\n",
        "message = \"Happy \" + str(age) + \"rd Birthday!\"\n",
        "print(message)"
      ],
      "metadata": {
        "colab": {
          "base_uri": "https://localhost:8080/"
        },
        "id": "o7-fOurvQ4Ha",
        "outputId": "6263342d-1bc6-4c35-9bba-833b87410c2b"
      },
      "execution_count": null,
      "outputs": [
        {
          "output_type": "stream",
          "name": "stdout",
          "text": [
            "Happy 23rd Birthday!\n"
          ]
        }
      ]
    },
    {
      "cell_type": "markdown",
      "source": [
        "### **The Zen of Python**"
      ],
      "metadata": {
        "id": "28aT3wyiT_rF"
      }
    },
    {
      "cell_type": "code",
      "source": [
        "import this"
      ],
      "metadata": {
        "colab": {
          "base_uri": "https://localhost:8080/"
        },
        "id": "ZVZYkTafR1O6",
        "outputId": "3175503f-0454-4748-8abc-dcdf36ba57af"
      },
      "execution_count": null,
      "outputs": [
        {
          "output_type": "stream",
          "name": "stdout",
          "text": [
            "The Zen of Python, by Tim Peters\n",
            "\n",
            "Beautiful is better than ugly.\n",
            "Explicit is better than implicit.\n",
            "Simple is better than complex.\n",
            "Complex is better than complicated.\n",
            "Flat is better than nested.\n",
            "Sparse is better than dense.\n",
            "Readability counts.\n",
            "Special cases aren't special enough to break the rules.\n",
            "Although practicality beats purity.\n",
            "Errors should never pass silently.\n",
            "Unless explicitly silenced.\n",
            "In the face of ambiguity, refuse the temptation to guess.\n",
            "There should be one-- and preferably only one --obvious way to do it.\n",
            "Although that way may not be obvious at first unless you're Dutch.\n",
            "Now is better than never.\n",
            "Although never is often better than *right* now.\n",
            "If the implementation is hard to explain, it's a bad idea.\n",
            "If the implementation is easy to explain, it may be a good idea.\n",
            "Namespaces are one honking great idea -- let's do more of those!\n"
          ]
        }
      ]
    }
  ]
}